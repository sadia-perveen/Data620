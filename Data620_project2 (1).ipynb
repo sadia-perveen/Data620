{
 "cells": [
  {
   "cell_type": "code",
   "execution_count": 2,
   "id": "dd722be0",
   "metadata": {},
   "outputs": [
    {
     "name": "stdout",
     "output_type": "stream",
     "text": [
      "Total groups after thresholding: 1\n",
      "Group 1 has 2389 nodes.\n",
      "Group 1 consists of 942 users and 1447 movies.\n"
     ]
    }
   ],
   "source": [
    "import pandas as pd\n",
    "import networkx as nx\n",
    "\n",
    "# URL pointing to the u.data file\n",
    "data_url = 'https://raw.githubusercontent.com/sadia-perveen/Data620/main/u.data'\n",
    "\n",
    "# Read the data directly from the URL\n",
    "data = pd.read_csv(data_url, sep='\\t', names=['user_id', 'movie_id', 'rating', 'timestamp'], engine='python')\n",
    "\n",
    "# Construct the bipartite graph\n",
    "B = nx.Graph()\n",
    "# Add user nodes, prefixing with 'u' to ensure uniqueness\n",
    "for user in data['user_id'].unique():\n",
    "    B.add_node(f'u{user}', bipartite=0)\n",
    "\n",
    "# Add movie nodes, prefixing with 'm' to ensure uniqueness\n",
    "for movie in data['movie_id'].unique():\n",
    "    B.add_node(f'm{movie}', bipartite=1)\n",
    "\n",
    "# Add edges\n",
    "for _, row in data.iterrows():\n",
    "    B.add_edge(f'u{row[\"user_id\"]}', f'm{row[\"movie_id\"]}', weight=row['rating'])\n",
    "\n",
    "# Apply the island method: only keep edges with a rating of 4 or higher\n",
    "threshold = 4\n",
    "B_sub = B.copy()\n",
    "for u, v, d in B.edges(data=True):\n",
    "    if d['weight'] < threshold:\n",
    "        B_sub.remove_edge(u, v)\n",
    "\n",
    "# Identify distinct groups in the thresholded graph\n",
    "groups = [B_sub.subgraph(c).copy() for c in nx.connected_components(B_sub) if len(c) > 1]\n",
    "\n",
    "# Output the results\n",
    "print(f\"Total groups after thresholding: {len(groups)}\")\n",
    "for i, group in enumerate(groups, 1):\n",
    "    print(f\"Group {i} has {len(group.nodes())} nodes.\")\n",
    "\n",
    "# Analyzing the distinct groups\n",
    "for i, group in enumerate(groups, 1):\n",
    "    users = [n for n in group.nodes if group.nodes[n]['bipartite'] == 0]\n",
    "    movies = [n for n in group.nodes if group.nodes[n]['bipartite'] == 1]\n",
    "    print(f\"Group {i} consists of {len(users)} users and {len(movies)} movies.\")\n"
   ]
  },
  {
   "cell_type": "markdown",
   "id": "870e2bce",
   "metadata": {},
   "source": [
    "### Inference\n",
    "Based on the analysis, we can infer that the MovieLens dataset exhibits a high level of interconnectedness among users and movies, even when considering only higher ratings (4 or above). The presence of a single large group comprising 942 users and 1447 movies after thresholding suggests that a substantial portion of users are connected through their common appreciation for a large set of movies. This interconnected nature indicates that users' movie preferences are not isolated but rather form a broad network of shared tastes, which could be leveraged for collaborative filtering and recommendation purposes. The large size of this group highlights the potential for finding common patterns or clusters within the data, which could provide insights into user preferences and movie popularity."
   ]
  },
  {
   "cell_type": "code",
   "execution_count": null,
   "id": "9b60ed00",
   "metadata": {},
   "outputs": [],
   "source": []
  }
 ],
 "metadata": {
  "kernelspec": {
   "display_name": "Python 3 (ipykernel)",
   "language": "python",
   "name": "python3"
  },
  "language_info": {
   "codemirror_mode": {
    "name": "ipython",
    "version": 3
   },
   "file_extension": ".py",
   "mimetype": "text/x-python",
   "name": "python",
   "nbconvert_exporter": "python",
   "pygments_lexer": "ipython3",
   "version": "3.11.5"
  }
 },
 "nbformat": 4,
 "nbformat_minor": 5
}
